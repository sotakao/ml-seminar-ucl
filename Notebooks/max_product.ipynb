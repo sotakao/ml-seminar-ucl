{
 "cells": [
  {
   "cell_type": "markdown",
   "metadata": {},
   "source": [
    "# Max-product algorithm on tree-structured graphs\n",
    "\n",
    "Consider a probabilistic graphical model in seven variables that has the following conditional independence property, represented as a tree:\n",
    "\n",
    "![image](../Figures/tree_graph.png)\n",
    "\n",
    "We assume that the variables are discrete with three possible states $x_i \\in \\{1, 2, 3\\}$, and that the joint distribution of $x_1, \\ldots, x_7$ decompose into pairwise potentials:\n",
    "$$\n",
    "p(x_1, x_2, x_3, x_4, x_5, x_6, x_7) = \\psi_{12}(x_1, x_2) \\psi_{23}(x_2, x_3) \\psi_{24}(x_2, x_4) \\psi_{35}(x_3, x_5) \\psi_{46}(x_4, x_6) \\psi_{47}(x_4, x_7)\n",
    "$$\n",
    "\n",
    "Our goal in this notebook is to find the most likely state of this probability model using the max-product algorithm, when the pairwise potential functions are given by\n",
    "\n",
    "$$\n",
    "\\psi_{ij}(x_i, x_j) = \\Psi,\n",
    "$$\n",
    "\n",
    "for all $i \\sim j$, where $\\Psi$ is a randomly generated $3 \\times 3$ matrix."
   ]
  },
  {
   "cell_type": "code",
   "execution_count": 1,
   "metadata": {},
   "outputs": [],
   "source": [
    "import numpy as np\n",
    "import os\n",
    "os.chdir('..')\n",
    "from models import Potential, TreeGraph\n",
    "from algorithms import MaxProduct"
   ]
  },
  {
   "cell_type": "markdown",
   "metadata": {},
   "source": [
    "For the purpose of comparison, we compute the joint probability explicitly, although this is not necessary to run the max-product algorithm."
   ]
  },
  {
   "cell_type": "code",
   "execution_count": 2,
   "metadata": {},
   "outputs": [],
   "source": [
    "np.random.seed(2353)\n",
    "Psi = np.random.uniform(size=(3,3))\n",
    "\n",
    "Psi12 = Psi[:,:,None,None,None,None,None]\n",
    "Psi23 = Psi[None,:,:,None,None,None,None]\n",
    "Psi24 = Psi[None,:,None,:,None,None,None]\n",
    "Psi35 = Psi[None,None,:,None,:,None,None]\n",
    "Psi46 = Psi[None,None,None,:,None,:,None]\n",
    "Psi47 = Psi[None,None,None,:,None,None,:]\n",
    "\n",
    "joint_probability = Psi12 * Psi23 * Psi24 * Psi35 * Psi46 * Psi47\n",
    "Z = joint_probability.sum()\n",
    "joint_probability /= Z"
   ]
  },
  {
   "cell_type": "markdown",
   "metadata": {},
   "source": [
    "Now, run the max-product algorithm to compute the most likely state of this model."
   ]
  },
  {
   "cell_type": "code",
   "execution_count": 3,
   "metadata": {},
   "outputs": [
    {
     "name": "stdout",
     "output_type": "stream",
     "text": [
      "Most likely state: (2, 3, 2, 2, 3, 3, 3)\n"
     ]
    }
   ],
   "source": [
    "np.random.seed(2353)\n",
    "Psi = np.random.uniform(size=(3,3))\n",
    "\n",
    "edge_potentials = [Potential(Psi, variables=[1,2]),\n",
    "                   Potential(Psi, variables=[2,3]),\n",
    "                   Potential(Psi, variables=[2,4]),\n",
    "                   Potential(Psi, variables=[3,5]),\n",
    "                   Potential(Psi, variables=[4,6]),\n",
    "                   Potential(Psi, variables=[4,7])]\n",
    "\n",
    "f = TreeGraph(edge_potentials, state_type='mode') # Set up graphical model\n",
    "MaxProduct(f, root_node=1) # Run max-product, taking node 1 as the root\n",
    "\n",
    "# Get most likely states obtained by max-product\n",
    "i1, i2, i3, i4, i5, i6, i7 = list(f.states.values())\n",
    "\n",
    "# Relabel states 0 -> 1, 1 -> 2, 2 -> 3\n",
    "state_dict = {0: 1, 1: 2, 2: 3}\n",
    "eval = lambda i: state_dict[i]\n",
    "p1, p2, p3, p4, p5, p6, p7 = list(map(eval, [i1, i2, i3, i4, i5, i6, i7]))\n",
    "\n",
    "print(f\"Most likely state: {p1, p2, p3, p4, p5, p6, p7}\")"
   ]
  },
  {
   "cell_type": "markdown",
   "metadata": {},
   "source": [
    "Below, we verify that indeed the state found by the max-product algorithm corresponds to the most likely state (i.e., giving rise to the maximal probability)."
   ]
  },
  {
   "cell_type": "code",
   "execution_count": 4,
   "metadata": {},
   "outputs": [
    {
     "data": {
      "text/plain": [
       "True"
      ]
     },
     "execution_count": 4,
     "metadata": {},
     "output_type": "execute_result"
    }
   ],
   "source": [
    "np.max(joint_probability) == joint_probability[i1, i2, i3, i4, i5, i6, i7]"
   ]
  },
  {
   "cell_type": "markdown",
   "metadata": {},
   "source": [
    "## Computation by hand\n",
    "\n",
    "Below, we run the max-product algorithm by hand to better understand its inner workings. This is essentially what is happening inside the `MaxProduct` function used above.\n",
    "\n",
    "### Leaves to root\n",
    "We first propagate messages from leaf nodes up to the root node, taking node 1 as the root, to compute the maximal probability."
   ]
  },
  {
   "cell_type": "code",
   "execution_count": 5,
   "metadata": {},
   "outputs": [],
   "source": [
    "m53 = m64 = m74 = np.max(Psi, axis=1) # Send messages from nodes 5 -> 3, 6 -> 4 and 7 -> 4\n",
    "\n",
    "m32 = np.max(Psi * m53[None], axis=1) # Send message from nodes 3 to 2\n",
    "m42 = np.max(Psi * (m64 * m74)[None], axis=1) # Send message from nodes 4 to 2\n",
    "\n",
    "m21 = np.max(Psi * (m32 * m42)[None], axis=1) # Send message from nodes 2 to 1\n",
    "\n",
    "p_ = np.max(m21) / Z  # Compute maximal probability"
   ]
  },
  {
   "cell_type": "markdown",
   "metadata": {},
   "source": [
    "We check below that the obtained probability is indeed maximal under this model:"
   ]
  },
  {
   "cell_type": "code",
   "execution_count": 6,
   "metadata": {},
   "outputs": [
    {
     "data": {
      "text/plain": [
       "True"
      ]
     },
     "execution_count": 6,
     "metadata": {},
     "output_type": "execute_result"
    }
   ],
   "source": [
    "p_ == np.max(joint_probability)"
   ]
  },
  {
   "cell_type": "markdown",
   "metadata": {},
   "source": [
    "### Root to leaves\n",
    "Next, we back-track from the root node back to the leaf nodes to find the state which gave rise to this maximal probability."
   ]
  },
  {
   "cell_type": "code",
   "execution_count": 7,
   "metadata": {},
   "outputs": [
    {
     "name": "stdout",
     "output_type": "stream",
     "text": [
      "Most likely state: (2, 3, 2, 2, 3, 3, 3)\n"
     ]
    }
   ],
   "source": [
    "i1 = np.argmax(m21) # Compute state at node 1\n",
    "\n",
    "i2 = np.argmax(Psi[i1] * (m32 * m42)) # Compute state at node 2\n",
    "\n",
    "i3 = np.argmax(Psi[i2] * m53) # Compute state at node 3\n",
    "i4 = np.argmax(Psi[i2] * (m64 * m74)) # Compute state at node 4\n",
    "\n",
    "i5 = np.argmax(Psi[i3]) # Compute state at node 5\n",
    "i6 = i7 = np.argmax(Psi[i4]) # Compute state at nodes 6 and 7\n",
    "\n",
    "# Relabel states 0 -> 1, 1 -> 2, 2 -> 3\n",
    "state_dict = {0: 1, 1: 2, 2: 3}\n",
    "eval = lambda i: state_dict[i]\n",
    "p1, p2, p3, p4, p5, p6, p7 = list(map(eval, [i1, i2, i3, i4, i5, i6, i7]))\n",
    "\n",
    "print(f\"Most likely state: {p1, p2, p3, p4, p5, p6, p7}\")"
   ]
  },
  {
   "cell_type": "code",
   "execution_count": null,
   "metadata": {},
   "outputs": [],
   "source": []
  }
 ],
 "metadata": {
  "kernelspec": {
   "display_name": "Python 3.10.8 ('.venv': venv)",
   "language": "python",
   "name": "python3"
  },
  "language_info": {
   "codemirror_mode": {
    "name": "ipython",
    "version": 3
   },
   "file_extension": ".py",
   "mimetype": "text/x-python",
   "name": "python",
   "nbconvert_exporter": "python",
   "pygments_lexer": "ipython3",
   "version": "3.10.8"
  },
  "orig_nbformat": 4,
  "vscode": {
   "interpreter": {
    "hash": "b198409704de6654d8fab5c07f807c91171fa2c48b9926906a91a96be375a287"
   }
  }
 },
 "nbformat": 4,
 "nbformat_minor": 2
}
